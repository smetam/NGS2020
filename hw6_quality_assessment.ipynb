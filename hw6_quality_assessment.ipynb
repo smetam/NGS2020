{
 "cells": [
  {
   "cell_type": "markdown",
   "metadata": {},
   "source": [
    "# HW6. Оценка качества и сборка различных технологий"
   ]
  },
  {
   "cell_type": "code",
   "execution_count": null,
   "metadata": {},
   "outputs": [],
   "source": [
    "!wc -m data/qc/reference.fasta"
   ]
  },
  {
   "cell_type": "markdown",
   "metadata": {},
   "source": [
    "### Reads quality check"
   ]
  },
  {
   "cell_type": "code",
   "execution_count": null,
   "metadata": {},
   "outputs": [],
   "source": [
    "!fastqc -o ./data/qc/fastqc/ \"data/qc/pacbio_10x.fq.gz\" \"data/qc/pacbio_20x.fq.gz\" \"data/qc/pacbio_40x.fq.gz\" \"data/qc/pacbio_80x.fq.gz\" \"data/qc/illumina.100x.1.fq.gz\" \"data/qc/illumina.100x.2.fq.gz\""
   ]
  },
  {
   "cell_type": "code",
   "execution_count": null,
   "metadata": {},
   "outputs": [],
   "source": [
    "!Trimmomatic PE \"data/qc/illumina.100x.1.fq.gz\" \"data/qc/illumina.100x.2.fq.gz\" -baseout \"data/qc/illumina_trimmed\" LEADING:10 TRAILING:10 SLIDINGWINDOW:10:10 MINLEN:20"
   ]
  },
  {
   "cell_type": "markdown",
   "metadata": {},
   "source": [
    "## Long read assembly with flye"
   ]
  },
  {
   "cell_type": "code",
   "execution_count": null,
   "metadata": {},
   "outputs": [],
   "source": [
    "!flye --pacbio-raw data/qc/pacbio_80x.fq.gz --out-dir data/qc/pb_80x --genome-size 5m --threads 4"
   ]
  },
  {
   "cell_type": "markdown",
   "metadata": {},
   "source": [
    "## Short read assembly with SPAdes"
   ]
  },
  {
   "cell_type": "code",
   "execution_count": null,
   "metadata": {},
   "outputs": [],
   "source": [
    "!spades.py -1 ./data/qc/illumina_trimmed_1P.fq -2 ./data/qc/illumina_trimmed_2P.fq -o ./data/qc/spades_illumina "
   ]
  },
  {
   "cell_type": "markdown",
   "metadata": {},
   "source": [
    "## Hybrid assembly with SPAdes"
   ]
  },
  {
   "cell_type": "code",
   "execution_count": null,
   "metadata": {},
   "outputs": [],
   "source": [
    "!spades.py -1 ./data/qc/illumina_trimmed_1P.fq -2 ./data/qc/illumina_trimmed_2P.fq --pacbio ./data/qc/pacbio_40x.fq.gz -o ./data/qc/spades_hybrid_40x"
   ]
  },
  {
   "cell_type": "markdown",
   "metadata": {},
   "source": [
    "## Quast"
   ]
  },
  {
   "cell_type": "code",
   "execution_count": null,
   "metadata": {},
   "outputs": [],
   "source": [
    "!python3 ~/Prog/tools/quast-5.0.2/quast.py -r data/qc/reference.fasta data/qc/spades_hybrid_10x/contigs.fasta data/qc/spades_hybrid_20x/contigs.fasta data/qc/spades_hybrid_40x/contigs.fasta data/qc/spades_illumina/contigs.fasta data/qc/pb_20x/assembly.fasta data/qc/pb_40x/assembly.fasta data/qc/pb_80x/assembly.fasta"
   ]
  },
  {
   "cell_type": "markdown",
   "metadata": {},
   "source": [
    "<img src=\"images/quast_comp.png\">"
   ]
  },
  {
   "cell_type": "markdown",
   "metadata": {},
   "source": [
    "## Results"
   ]
  },
  {
   "cell_type": "markdown",
   "metadata": {},
   "source": [
    "По результатам QUAST можно сравнить сборку коротких ридов Illumina, длинных ридов PacBio и гибридную сборку.  \n",
    "1) Использование длинных ридов позволяет значительно уменьшить % непокрытых участков с 2% до 0.1%  \n",
    "2) Что касается точности, сборки из коротких ридов Illumina все еще вне конкуренции.  \n",
    "3) Для длинных ридов критически важно хорошее покрытие, при этом огромные улучшения с точки зрения LGA50, NGA50.  \n",
    "4) Гибридные сборки хорошо себя проявляют с точки зрения баланса: хорошее покрытие, мало инделов, значительно более хорошие показатели LGA50, NGA50 по сравнению с короткими ридами.  \n",
    "5) Если есть возможность использовать длинные риды с высоким покрытием, стоит так делать - лучшие рещультаты на PacBio 80x (не зря Next-Next Gen).  "
   ]
  },
  {
   "cell_type": "code",
   "execution_count": null,
   "metadata": {},
   "outputs": [],
   "source": []
  }
 ],
 "metadata": {
  "kernelspec": {
   "display_name": "Python 3",
   "language": "python",
   "name": "python3"
  },
  "language_info": {
   "codemirror_mode": {
    "name": "ipython",
    "version": 3
   },
   "file_extension": ".py",
   "mimetype": "text/x-python",
   "name": "python",
   "nbconvert_exporter": "python",
   "pygments_lexer": "ipython3",
   "version": "3.7.4"
  }
 },
 "nbformat": 4,
 "nbformat_minor": 2
}
