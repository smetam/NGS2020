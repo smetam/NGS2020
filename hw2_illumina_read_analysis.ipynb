{
 "cells": [
  {
   "cell_type": "markdown",
   "metadata": {},
   "source": [
    "# HW2.1 Illumina read analysis"
   ]
  },
  {
   "cell_type": "code",
   "execution_count": 160,
   "metadata": {},
   "outputs": [],
   "source": [
    "import pysam\n",
    "import seaborn as sns\n",
    "import numpy as np\n",
    "import pandas as pd\n",
    "\n",
    "from collections import Counter"
   ]
  },
  {
   "cell_type": "markdown",
   "metadata": {},
   "source": [
    "### Part 0. Index, allign, flagstat"
   ]
  },
  {
   "cell_type": "code",
   "execution_count": 199,
   "metadata": {},
   "outputs": [],
   "source": [
    "reference_path = 'data/B_faecium/ref.fasta.gz'\n",
    "jump_1 = 'data/B_faecium/jump.R1.fastq.gz'\n",
    "jump_2 = 'data/B_faecium/jump.R2.fastq.gz'\n",
    "frag_1 = 'data/B_faecium/frag.R1.fastq.gz'\n",
    "frag_2 = 'data/B_faecium/frag.R2.fastq.gz'\n",
    "jump_alignment = 'data/B_faecium/jump_alignment_sorted.bam'\n",
    "frag_alignment = 'data/B_faecium/frag_alignment_sorted.bam'"
   ]
  },
  {
   "cell_type": "code",
   "execution_count": 143,
   "metadata": {},
   "outputs": [
    {
     "name": "stdout",
     "output_type": "stream",
     "text": [
      "[bwa_index] Pack FASTA... 0.04 sec\n",
      "[bwa_index] Construct BWT for the packed sequence...\n",
      "[bwa_index] 1.02 seconds elapse.\n",
      "[bwa_index] Update BWT... 0.03 sec\n",
      "[bwa_index] Pack forward-only FASTA... 0.03 sec\n",
      "[bwa_index] Construct SA from BWT and Occ... 0.26 sec\n",
      "[main] Version: 0.7.17-r1188\n",
      "[main] CMD: bwa index ./data/B_faecium/ref.fasta.gz\n",
      "[main] Real time: 1.402 sec; CPU: 1.393 sec\n"
     ]
    }
   ],
   "source": [
    "!bwa index ./data/B_faecium/ref.fasta.gz"
   ]
  },
  {
   "cell_type": "code",
   "execution_count": null,
   "metadata": {},
   "outputs": [],
   "source": [
    "!bwa mem ./data/B_faecium/ref.fasta.gz ./data/B_faecium/frag.R1.fastq.gz ./data/B_faecium/frag.R2.fastq.gz > ./data/B_faecium/frag_alignment.sam"
   ]
  },
  {
   "cell_type": "code",
   "execution_count": 195,
   "metadata": {},
   "outputs": [],
   "source": [
    "!samtools view -S -b ./data/B_faecium/frag_alignment.sam > ./data/B_faecium/frag_alignment.bam"
   ]
  },
  {
   "cell_type": "code",
   "execution_count": 196,
   "metadata": {},
   "outputs": [
    {
     "name": "stdout",
     "output_type": "stream",
     "text": [
      "3432529 + 0 in total (QC-passed reads + QC-failed reads)\r\n",
      "0 + 0 secondary\r\n",
      "165 + 0 supplementary\r\n",
      "0 + 0 duplicates\r\n",
      "3424657 + 0 mapped (99.77% : N/A)\r\n",
      "3432364 + 0 paired in sequencing\r\n",
      "1716182 + 0 read1\r\n",
      "1716182 + 0 read2\r\n",
      "3407384 + 0 properly paired (99.27% : N/A)\r\n",
      "3416620 + 0 with itself and mate mapped\r\n",
      "7872 + 0 singletons (0.23% : N/A)\r\n",
      "0 + 0 with mate mapped to a different chr\r\n",
      "0 + 0 with mate mapped to a different chr (mapQ>=5)\r\n"
     ]
    }
   ],
   "source": [
    "!samtools flagstat ./data/B_faecium/frag_alignment.bam"
   ]
  },
  {
   "cell_type": "code",
   "execution_count": 197,
   "metadata": {},
   "outputs": [
    {
     "name": "stdout",
     "output_type": "stream",
     "text": [
      "[bam_sort_core] merging from 1 files and 1 in-memory blocks...\r\n"
     ]
    }
   ],
   "source": [
    "!samtools sort ./data/B_faecium/frag_alignment.bam  -o ./data/B_faecium/frag_alignment_sorted.bam "
   ]
  },
  {
   "cell_type": "code",
   "execution_count": 198,
   "metadata": {},
   "outputs": [],
   "source": [
    "!samtools index ./data/B_faecium/frag_alignment_sorted.bam"
   ]
  },
  {
   "cell_type": "markdown",
   "metadata": {},
   "source": [
    "### Part 1. Genome coverage"
   ]
  },
  {
   "cell_type": "markdown",
   "metadata": {},
   "source": [
    "#### B_faecium/frag.R1.fastq.gz B_faecium/frag.R2.fastq.gz"
   ]
  },
  {
   "cell_type": "code",
   "execution_count": 202,
   "metadata": {},
   "outputs": [],
   "source": [
    "frag_bam = pysam.AlignmentFile(frag_alignment, \"rb\")"
   ]
  },
  {
   "cell_type": "code",
   "execution_count": 203,
   "metadata": {},
   "outputs": [
    {
     "name": "stdout",
     "output_type": "stream",
     "text": [
      "('Contig184',)\n"
     ]
    }
   ],
   "source": [
    "headers = frag_bam.references\n",
    "print(headers)"
   ]
  },
  {
   "cell_type": "code",
   "execution_count": 210,
   "metadata": {},
   "outputs": [],
   "source": [
    "def calculate_coverage(bamfile, contig, segment_lenght=5000):\n",
    "    total_cov = []\n",
    "    current_cov = 0\n",
    "    prev_pos = 0\n",
    "    skipped = 1\n",
    "    \n",
    "    for pile in bamfile.pileup(contig):\n",
    "        current_pos = pile.pos\n",
    "        if prev_pos + 1 != current_pos:\n",
    "            skipped += current_pos - prev_pos - 1\n",
    "        if current_pos // segment_lenght > prev_pos // segment_lenght:\n",
    "            total_cov.append(current_cov / segment_lenght)\n",
    "            current_cov = 0\n",
    "        current_cov += pile.n\n",
    "        prev_pos = current_pos\n",
    "    coverage_frac = 1 - skipped / bamfile.lengths[0]\n",
    "    return total_cov, coverage_frac * 100"
   ]
  },
  {
   "cell_type": "code",
   "execution_count": 211,
   "metadata": {},
   "outputs": [
    {
     "name": "stdout",
     "output_type": "stream",
     "text": [
      "Доля покрытия: 100.0 %.\n"
     ]
    },
    {
     "data": {
      "text/plain": [
       "<matplotlib.axes._subplots.AxesSubplot at 0x114aaa3d0>"
      ]
     },
     "execution_count": 211,
     "metadata": {},
     "output_type": "execute_result"
    },
    {
     "data": {
      "image/png": "[encoded data removed]",
      "text/plain": [
       "<Figure size 432x288 with 1 Axes>"
      ]
     },
     "metadata": {
      "needs_background": "light"
     },
     "output_type": "display_data"
    }
   ],
   "source": [
    "total_cov, coverage_percent = calculate_coverage(frag_bam, 'Contig184')\n",
    "print(f'Доля покрытия: {coverage_percent} %.')\n",
    "sns.lineplot(x=range(len(total_cov)), y=total_cov)"
   ]
  },
  {
   "cell_type": "markdown",
   "metadata": {},
   "source": [
    "#### B_faecium/jump.R1.fastq.gz B_faecium/jumo.R2.fastq.gz"
   ]
  },
  {
   "cell_type": "code",
   "execution_count": 212,
   "metadata": {},
   "outputs": [],
   "source": [
    "jump_bam = pysam.AlignmentFile(jump_alignment, \"rb\")"
   ]
  },
  {
   "cell_type": "code",
   "execution_count": 213,
   "metadata": {},
   "outputs": [
    {
     "name": "stdout",
     "output_type": "stream",
     "text": [
      "('Contig184',)\n"
     ]
    }
   ],
   "source": [
    "headers = jump_bam.references\n",
    "print(headers)"
   ]
  },
  {
   "cell_type": "code",
   "execution_count": 215,
   "metadata": {},
   "outputs": [
    {
     "name": "stdout",
     "output_type": "stream",
     "text": [
      "Доля покрытия: 83.13 %.\n"
     ]
    },
    {
     "data": {
      "text/plain": [
       "<matplotlib.axes._subplots.AxesSubplot at 0x114ef0110>"
      ]
     },
     "execution_count": 215,
     "metadata": {},
     "output_type": "execute_result"
    },
    {
     "data": {
      "image/png": "[encoded data removed]",
      "text/plain": [
       "<Figure size 432x288 with 1 Axes>"
      ]
     },
     "metadata": {
      "needs_background": "light"
     },
     "output_type": "display_data"
    }
   ],
   "source": [
    "total_cov, coverage_percent = calculate_coverage(jump_bam, 'Contig184')\n",
    "print(f'Доля покрытия: {coverage_percent:.2f} %.')\n",
    "sns.lineplot(x=range(len(total_cov)), y=total_cov)"
   ]
  },
  {
   "cell_type": "markdown",
   "metadata": {},
   "source": [
    "## Part 2. Distribution of insertion length."
   ]
  },
  {
   "cell_type": "markdown",
   "metadata": {},
   "source": [
    "#### B_faecium/frag.R1.fastq.gz B_faecium/frag.R2.fastq.gz"
   ]
  },
  {
   "cell_type": "code",
   "execution_count": 217,
   "metadata": {},
   "outputs": [],
   "source": [
    "template_lengths = [read.template_length for read in frag_bam.fetch('Contig184') if read.template_length > 0]\n",
    "c = Counter(template_lengths)"
   ]
  },
  {
   "cell_type": "code",
   "execution_count": 222,
   "metadata": {},
   "outputs": [
    {
     "data": {
      "text/plain": [
       "<matplotlib.axes._subplots.AxesSubplot at 0x1a30ad9990>"
      ]
     },
     "execution_count": 222,
     "metadata": {},
     "output_type": "execute_result"
    },
    {
     "data": {
      "image/png": "[encoded data removed]",
      "text/plain": [
       "<Figure size 432x288 with 1 Axes>"
      ]
     },
     "metadata": {
      "needs_background": "light"
     },
     "output_type": "display_data"
    }
   ],
   "source": [
    "l = list(range(1, 600))\n",
    "a = [c[x] for x in l]\n",
    "sns.lineplot(x = l, y = a)"
   ]
  },
  {
   "cell_type": "code",
   "execution_count": 223,
   "metadata": {},
   "outputs": [],
   "source": [
    "def print_stats(array):\n",
    "    t = np.array(array)\n",
    "    print(f'Среднее расстояние вставки: {t.mean():.2f}.')\n",
    "    print(f'Среднеквадротичное отклонение: {t.std():.2f}.')\n",
    "    print(f'Интервал минимальной ширины для 95% ридов: {np.quantile(t, 0.95):.2f}.')\n",
    "        "
   ]
  },
  {
   "cell_type": "code",
   "execution_count": 225,
   "metadata": {},
   "outputs": [
    {
     "name": "stdout",
     "output_type": "stream",
     "text": [
      "Среднее расстояние вставки: 2372.56.\n",
      "Среднеквадротичное отклонение: 63457.56.\n",
      "Интервал минимальной ширины для 95% ридов: 393.00.\n"
     ]
    }
   ],
   "source": [
    "print_stats(template_lengths)"
   ]
  },
  {
   "cell_type": "markdown",
   "metadata": {},
   "source": [
    "#### B_faecium/jump.R1.fastq.gz B_faecium/jump.R2.fastq.gz"
   ]
  },
  {
   "cell_type": "code",
   "execution_count": 226,
   "metadata": {},
   "outputs": [],
   "source": [
    "template_lengths = [read.template_length for read in jump_bam.fetch('Contig184') if read.template_length > 0]\n",
    "c = Counter(template_lengths)"
   ]
  },
  {
   "cell_type": "code",
   "execution_count": 227,
   "metadata": {},
   "outputs": [
    {
     "data": {
      "text/plain": [
       "<matplotlib.axes._subplots.AxesSubplot at 0x113e00a10>"
      ]
     },
     "execution_count": 227,
     "metadata": {},
     "output_type": "execute_result"
    },
    {
     "data": {
      "image/png": "[encoded data removed]",
      "text/plain": [
       "<Figure size 432x288 with 1 Axes>"
      ]
     },
     "metadata": {
      "needs_background": "light"
     },
     "output_type": "display_data"
    }
   ],
   "source": [
    "l = list(range(1, 20000))\n",
    "a = [c[x] for x in l]\n",
    "sns.lineplot(x = l, y = a)"
   ]
  },
  {
   "cell_type": "code",
   "execution_count": 228,
   "metadata": {},
   "outputs": [
    {
     "name": "stdout",
     "output_type": "stream",
     "text": [
      "Среднее расстояние вставки: 125215.30.\n",
      "Среднеквадротичное отклонение: 463798.29.\n",
      "Интервал минимальной ширины для 95% ридов: 1000706.25.\n"
     ]
    }
   ],
   "source": [
    "print_stats(template_lengths)"
   ]
  },
  {
   "cell_type": "markdown",
   "metadata": {},
   "source": [
    "## Part 3."
   ]
  },
  {
   "cell_type": "code",
   "execution_count": 229,
   "metadata": {},
   "outputs": [],
   "source": [
    "!samtools faidx ./data/B_faecium/ref.fasta.gz"
   ]
  },
  {
   "cell_type": "code",
   "execution_count": 233,
   "metadata": {},
   "outputs": [],
   "source": [
    "def build_substitution_matrix(bamfile, contig, reference_path):\n",
    "    substitution_matrix = pd.DataFrame(\n",
    "        {'A': [0,0,0,0], 'C': [0,0,0,0], 'G': [0,0,0,0], 'T': [0,0,0,0]}, \n",
    "        index=['A', 'C', 'G', 'T']\n",
    "    )\n",
    "    ref_fasta = pysam.FastaFile(reference_path)\n",
    "    seq = ref_fasta.fetch(contig)\n",
    "    ref_gen = enumerate(seq)\n",
    "    pos, base = next(ref_gen)\n",
    "\n",
    "    for pileupcolumn in bamfile.pileup(contig):\n",
    "        while pos != pileupcolumn.reference_pos:\n",
    "            pos, base = next(ref_gen)\n",
    "        q_seq = pileupcolumn.get_query_sequences()\n",
    "        for nucleotide in q_seq:\n",
    "            ncl = nucleotide.upper()\n",
    "            if ncl != base and ncl != 'N':\n",
    "                substitution_matrix.at[base, ncl] += 1\n",
    "    return substitution_matrix"
   ]
  },
  {
   "cell_type": "markdown",
   "metadata": {},
   "source": [
    "#### B_faecium/frag.R1.fastq.gz B_faecium/frag.R2.fastq.gz"
   ]
  },
  {
   "cell_type": "code",
   "execution_count": 234,
   "metadata": {},
   "outputs": [],
   "source": [
    "frag_mtrx = build_substitution_matrix(frag_bam, 'Contig184', reference_path)"
   ]
  },
  {
   "cell_type": "code",
   "execution_count": 235,
   "metadata": {},
   "outputs": [
    {
     "name": "stdout",
     "output_type": "stream",
     "text": [
      "Матрица замен для frag.R*\n",
      "        A       C       G       T\n",
      "A       0  934671  504977   67986\n",
      "C  397497       0  680972  149111\n",
      "G  155718  715835       0  350429\n",
      "T   77555  545981  930329       0\n"
     ]
    }
   ],
   "source": [
    "print('Матрица замен для frag.R*')\n",
    "print(frag_mtrx)"
   ]
  },
  {
   "cell_type": "markdown",
   "metadata": {},
   "source": [
    "#### B_faecium/jump.R1.fastq.gz B_faecium/jump.R2.fastq.gz"
   ]
  },
  {
   "cell_type": "code",
   "execution_count": 236,
   "metadata": {
    "scrolled": true
   },
   "outputs": [
    {
     "name": "stdout",
     "output_type": "stream",
     "text": [
      "Матрица замен для jump.R*\n",
      "        A       C       G       T\n",
      "A       0  774816  457471   39056\n",
      "C  128229       0  432730   66434\n",
      "G   65775  426529       0  128910\n",
      "T   39099  448806  786418       0\n"
     ]
    }
   ],
   "source": [
    "jump_mtrx = build_substitution_matrix(jump_bam, 'Contig184', reference_path)\n",
    "print('Матрица замен для jump.R*')\n",
    "print(jump_mtrx)"
   ]
  },
  {
   "cell_type": "code",
   "execution_count": null,
   "metadata": {},
   "outputs": [],
   "source": []
  }
 ],
 "metadata": {
  "kernelspec": {
   "display_name": "Python 3",
   "language": "python",
   "name": "python3"
  },
  "language_info": {
   "codemirror_mode": {
    "name": "ipython",
    "version": 3
   },
   "file_extension": ".py",
   "mimetype": "text/x-python",
   "name": "python",
   "nbconvert_exporter": "python",
   "pygments_lexer": "ipython3",
   "version": "3.7.4"
  }
 },
 "nbformat": 4,
 "nbformat_minor": 2
}
