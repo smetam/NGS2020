{
 "cells": [
  {
   "cell_type": "markdown",
   "metadata": {},
   "source": [
    "# HW7. RNA Seq"
   ]
  },
  {
   "cell_type": "code",
   "execution_count": null,
   "metadata": {},
   "outputs": [],
   "source": [
    "import pysam\n",
    "import copy\n",
    "import numpy as np\n",
    "import matplotlib.pyplot as plt\n",
    "import seaborn as sns\n",
    "\n",
    "from collections import Counter\n",
    "from statsmodels.distributions.empirical_distribution import ECDF\n",
    "\n",
    "from Bio import SeqIO\n",
    "from BCBio import GFF\n",
    "from Bio.SeqRecord import SeqRecord\n",
    "from Bio.SeqFeature import SeqFeature, FeatureLocation"
   ]
  },
  {
   "cell_type": "markdown",
   "metadata": {},
   "source": [
    "## 1. RNA-seq aligment to reference"
   ]
  },
  {
   "cell_type": "code",
   "execution_count": null,
   "metadata": {},
   "outputs": [],
   "source": [
    "!~/Prog/tools/STAR-2.7.3a/bin/MacOSX_x86_64/STAR --genomeDir ./data/hw7/gen_dir --genomeSAindexNbases 10 --runMode genomeGenerate --genomeFastaFiles ./data/hw7/ref.fa --sjdbGTFfile ./data/hw7/genes.gtf"
   ]
  },
  {
   "cell_type": "code",
   "execution_count": null,
   "metadata": {},
   "outputs": [],
   "source": [
    "!~/Prog/tools/STAR-2.7.3a/bin/MacOSX_x86_64/STAR --genomeDir ./data/hw7/gen_dir --runThreadN 4 --readFilesIn ./data/hw7/SRR453566_1.fastq ./data/hw7/SRR453566_2.fastq"
   ]
  },
  {
   "cell_type": "code",
   "execution_count": null,
   "metadata": {},
   "outputs": [],
   "source": [
    "!samtools view -bS ./data/hw7/Aligned.out.sam | samtools sort -o ./data/hw7/aligned_out_sorted.bam"
   ]
  },
  {
   "cell_type": "code",
   "execution_count": null,
   "metadata": {},
   "outputs": [],
   "source": [
    "!samtools index ./data/hw7/aligned_out_sorted.bam"
   ]
  },
  {
   "cell_type": "markdown",
   "metadata": {},
   "source": [
    "## 2. Expression analysis"
   ]
  },
  {
   "cell_type": "code",
   "execution_count": null,
   "metadata": {},
   "outputs": [],
   "source": [
    "def count_tpm(gtf_file, bam_file):\n",
    "    bamfile = pysam.AlignmentFile(bam_file, 'rb')\n",
    "    \n",
    "    with open(gtf_file, 'r') as f:\n",
    "        # skip first lines with comments\n",
    "        for _ in range(5):\n",
    "            f.readline()\n",
    "        gene_count = 0\n",
    "        gene_tpm = []\n",
    "        gene_reads = 0\n",
    "        gene_len  = 0\n",
    "        \n",
    "        for line in f:\n",
    "            seqname, source, feature, start, end = line.split('\\t')[:5]\n",
    "            start, end = int(start), int(end)\n",
    "            if feature == 'exon':\n",
    "                gene_len += end - start\n",
    "        \n",
    "                for read in bamfile.fetch(seqname, start, end):\n",
    "                    gene_reads += 1 \n",
    "                \n",
    "            if feature == 'gene':\n",
    "                if gene_count > 0:\n",
    "                    gene_tpm.append(gene_reads / gene_len)\n",
    "\n",
    "                    gene_reads = 0\n",
    "                    gene_len  = 0\n",
    "                gene_count += 1\n",
    "                if gene_count % 500 == 0:\n",
    "                    print(gene_count)\n",
    "                    \n",
    "                tpm = np.array(gene_tpm)\n",
    "                tpm = tpm / np.sum(tpm) * 1000000\n",
    "                \n",
    "    return tpm, gene_count\n",
    "    \n",
    "    \n",
    "tpm, n_genes = count_tpm(\"data/hw7/genes.gtf\", \"data/hw7/aligned_out_sorted.bam\")"
   ]
  },
  {
   "cell_type": "code",
   "execution_count": null,
   "metadata": {},
   "outputs": [],
   "source": [
    "X = copy.deepcopy(tpm)\n",
    "X.sort()\n",
    "ecdf = ECDF(X, side='left')"
   ]
  },
  {
   "cell_type": "code",
   "execution_count": 59,
   "metadata": {},
   "outputs": [
    {
     "data": {
      "text/plain": [
       "Text(0.5, 1.0, 'Плотность распределения TPM.')"
      ]
     },
     "execution_count": 59,
     "metadata": {},
     "output_type": "execute_result"
    },
    {
     "data": {
      "image/png": "[encoded data removed]",
      "text/plain": [
       "<Figure size 432x288 with 1 Axes>"
      ]
     },
     "metadata": {
      "needs_background": "light"
     },
     "output_type": "display_data"
    }
   ],
   "source": [
    "sns.kdeplot(X, shade=True).set_title('Плотность распределения TPM.')"
   ]
  },
  {
   "cell_type": "code",
   "execution_count": 57,
   "metadata": {},
   "outputs": [
    {
     "data": {
      "text/plain": [
       "Text(0.5, 1.0, 'Эмпирическая функция распределения TPM.')"
      ]
     },
     "execution_count": 57,
     "metadata": {},
     "output_type": "execute_result"
    },
    {
     "data": {
      "image/png": "[encoded data removed]",
      "text/plain": [
       "<Figure size 432x288 with 1 Axes>"
      ]
     },
     "metadata": {
      "needs_background": "light"
     },
     "output_type": "display_data"
    }
   ],
   "source": [
    "sns.lineplot(ecdf.x, ecdf.y).set_title('Эмпирическая функция распределения TPM.')"
   ]
  },
  {
   "cell_type": "markdown",
   "metadata": {},
   "source": [
    "### В качестве экспрессирующихся генов, будем считать те, которые в сумме дают 95% общего TPM:"
   ]
  },
  {
   "cell_type": "code",
   "execution_count": 101,
   "metadata": {},
   "outputs": [
    {
     "name": "stdout",
     "output_type": "stream",
     "text": [
      "Экспрессирующихся генов: 4475(62.8% от общего чиса генов).\n"
     ]
    }
   ],
   "source": [
    "\n",
    "for i in range(X.size, 0, -1):\n",
    "    if np.sum(X[i:]) > 9.5 * 10 ** 5:\n",
    "        n_expressed = X.size - i\n",
    "        break\n",
    "print(f'Экспрессирующихся генов: {n_expressed}({n_expressed/X.size*100:.1f}% от общего чиса генов).')"
   ]
  },
  {
   "cell_type": "markdown",
   "metadata": {},
   "source": [
    "## 3. De novo transcript assembly"
   ]
  },
  {
   "cell_type": "code",
   "execution_count": null,
   "metadata": {},
   "outputs": [],
   "source": [
    "!rnaspades.py -o ./data/hw7/rna_asmbl -1 ./data/hw7/SRR453566_1.fastq -2 ./data/hw7/SRR453566_2.fastq"
   ]
  },
  {
   "cell_type": "code",
   "execution_count": null,
   "metadata": {},
   "outputs": [],
   "source": [
    "!~/Prog/tools/rnaQUAST-2.0.1/rnaQUAST.py \\\n",
    "--transcripts ./data/hw7/rna_asmbl/transcripts.fasta \\\n",
    "--reference ./data/hw7/ref.fa --gtf ./data/hw7/genes.gtf"
   ]
  },
  {
   "cell_type": "markdown",
   "metadata": {},
   "source": [
    "### Результаты rnaQuast:\n",
    "Всего генов: 7126  \n",
    "Генов с покрытием 95%:  3756  (53%)  \n",
    "Генов с покрытием 50%:  4012  (56%)"
   ]
  },
  {
   "cell_type": "code",
   "execution_count": null,
   "metadata": {},
   "outputs": [],
   "source": []
  }
 ],
 "metadata": {
  "kernelspec": {
   "display_name": "Python 3",
   "language": "python",
   "name": "python3"
  },
  "language_info": {
   "codemirror_mode": {
    "name": "ipython",
    "version": 3
   },
   "file_extension": ".py",
   "mimetype": "text/x-python",
   "name": "python",
   "nbconvert_exporter": "python",
   "pygments_lexer": "ipython3",
   "version": "3.7.4"
  }
 },
 "nbformat": 4,
 "nbformat_minor": 2
}
